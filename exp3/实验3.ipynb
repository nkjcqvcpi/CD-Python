{
 "cells": [
  {
   "cell_type": "code",
   "execution_count": null,
   "metadata": {
    "collapsed": true
   },
   "outputs": [],
   "source": [
    "def demo(*para):\n",
    "    avg = sum(para)/len(para)\n",
    "    g = [i for i in para if i > avg]\n",
    "    return (avg, ) + tuple(g)"
   ]
  },
  {
   "cell_type": "code",
   "execution_count": null,
   "outputs": [],
   "source": [
    "def demo(s):\n",
    "    result = [0, 0]\n",
    "    for ch in s:\n",
    "        if ch.islower():\n",
    "            result[1] += 1\n",
    "        elif ch.isupper():\n",
    "            result[0] += 1\n",
    "    return tuple(result)"
   ],
   "metadata": {
    "collapsed": false,
    "pycharm": {
     "name": "#%%\n"
    }
   }
  },
  {
   "cell_type": "code",
   "execution_count": null,
   "outputs": [],
   "source": [
    "def demo(lst, k):\n",
    "    x = lst[k-1::-1]\n",
    "    y = lst[:k-1:-1]\n",
    "    return list(reversed(x+y))"
   ],
   "metadata": {
    "collapsed": false,
    "pycharm": {
     "name": "#%%\n"
    }
   }
  },
  {
   "cell_type": "code",
   "execution_count": null,
   "outputs": [],
   "source": [
    "def demo(lst, k):\n",
    "    temp = lst[:]\n",
    "    for i in range(k):\n",
    "        temp.append(temp.pop(0))\n",
    "    return temp"
   ],
   "metadata": {
    "collapsed": false,
    "pycharm": {
     "name": "#%%\n"
    }
   }
  },
  {
   "cell_type": "code",
   "execution_count": null,
   "outputs": [],
   "source": [
    "def demo(lst, k):\n",
    "    return lst[k:]+lst[:k]"
   ],
   "metadata": {
    "collapsed": false,
    "pycharm": {
     "name": "#%%\n"
    }
   }
  },
  {
   "cell_type": "code",
   "execution_count": 4,
   "outputs": [
    {
     "data": {
      "text/plain": "deque([0, 1, 2, 3, 4, 5, 6, 7, 8, 9, 10, 11, 12, 13, 14, 15, 16, 17, 18, 19])"
     },
     "execution_count": 4,
     "metadata": {},
     "output_type": "execute_result"
    }
   ],
   "source": [
    "from collections import deque\n",
    "\n",
    "q = deque(range(20))\n",
    "q.rotate(3)\n",
    "q\n",
    "q.rotate(-3)\n",
    "q"
   ],
   "metadata": {
    "collapsed": false,
    "pycharm": {
     "name": "#%%\n"
    }
   }
  },
  {
   "cell_type": "code",
   "execution_count": null,
   "outputs": [],
   "source": [
    "def yanghui(t):\n",
    "    print([1])\n",
    "    line = [1, 1]\n",
    "    print(line)\n",
    "    for i in range(2, t):\n",
    "        r = []\n",
    "        for j in range(0, len(line)-1):\n",
    "            r.append(line[j]+line[j+1])\n",
    "        line = [1] + r + [1]\n",
    "        print(line)"
   ],
   "metadata": {
    "collapsed": false,
    "pycharm": {
     "name": "#%%\n"
    }
   }
  },
  {
   "cell_type": "code",
   "execution_count": 5,
   "outputs": [
    {
     "name": "stdout",
     "output_type": "stream",
     "text": [
      "1\t\n",
      "1\t1\t\n",
      "1\t2\t1\t\n",
      "1\t3\t3\t1\t\n",
      "1\t4\t6\t4\t1\t\n",
      "1\t5\t10\t10\t5\t1\t\n",
      "1\t6\t15\t20\t15\t6\t1\t\n",
      "1\t7\t21\t35\t35\t21\t7\t1\t\n",
      "1\t8\t28\t56\t70\t56\t28\t8\t1\t\n",
      "1\t9\t36\t84\t126\t126\t84\t36\t9\t1\t\n",
      "1\t10\t45\t120\t210\t252\t210\t120\t45\t10\t1\t\n",
      "1\t11\t55\t165\t330\t462\t462\t330\t165\t55\t11\t1\t\n",
      "1\t12\t66\t220\t495\t792\t924\t792\t495\t220\t66\t12\t1\t\n",
      "1\t13\t78\t286\t715\t1287\t1716\t1716\t1287\t715\t286\t78\t13\t1\t\n"
     ]
    }
   ],
   "source": [
    "from collections import defaultdict\n",
    "\n",
    "def yanghui(n):\n",
    "    triangle = defaultdict(int)\n",
    "    for row in range(n):\n",
    "        triangle[row, 0] = 1\n",
    "        print(triangle[row, 0], end='\\t')\n",
    "        for col in range(1, row+1):\n",
    "            triangle[row, col]=triangle[row-1, col-1] + triangle[row-1, col]\n",
    "            print(triangle[row, col], end='\\t')\n",
    "        print()\n",
    "\n",
    "yanghui(14)"
   ],
   "metadata": {
    "collapsed": false,
    "pycharm": {
     "name": "#%%\n"
    }
   }
  },
  {
   "cell_type": "code",
   "execution_count": null,
   "outputs": [],
   "source": [
    "def demo(n):\n",
    "    def IsPrime(p):\n",
    "        if p == 2:\n",
    "            return True\n",
    "        if p % 2 == 0:\n",
    "            return False\n",
    "        for i in range(3, int(p**0.5)+1, 2):\n",
    "            if p % i == 0:\n",
    "                return False\n",
    "        return True\n",
    "\n",
    "    if isinstance(n, int) and n > 0 and n % 2 == 0:\n",
    "        for i in range(2, n // 2 + 1):\n",
    "            if IsPrime(i) and IsPrime(n-i):\n",
    "                print(i, '+', n - i, '=', n)"
   ],
   "metadata": {
    "collapsed": false,
    "pycharm": {
     "name": "#%%\n"
    }
   }
  },
  {
   "cell_type": "code",
   "execution_count": null,
   "outputs": [],
   "source": [
    "def demo(m, n):\n",
    "    p = m * n\n",
    "    while m % n != 0:\n",
    "        m, n = n, m % n\n",
    "    return n, p // n"
   ],
   "metadata": {
    "collapsed": false,
    "pycharm": {
     "name": "#%%\n"
    }
   }
  },
  {
   "cell_type": "code",
   "execution_count": null,
   "outputs": [],
   "source": [
    "def demo(m, n):\n",
    "    import math\n",
    "    r = math.gcd(m, n)\n",
    "    return r, (m * n) // r"
   ],
   "metadata": {
    "collapsed": false,
    "pycharm": {
     "name": "#%%\n"
    }
   }
  },
  {
   "cell_type": "code",
   "execution_count": null,
   "outputs": [],
   "source": [
    "def demo(x, n):\n",
    "    t1 = [i for i in x if i < n]\n",
    "    t2 = [i for i in x if i > n]\n",
    "    return t1 + [n] + t2"
   ],
   "metadata": {
    "collapsed": false,
    "pycharm": {
     "name": "#%%\n"
    }
   }
  },
  {
   "cell_type": "code",
   "execution_count": null,
   "outputs": [],
   "source": [
    "def demo(x,n) :\n",
    "    t1=[]\n",
    "    t2=[]\n",
    "    for i in x:\n",
    "        if i<n:\n",
    "            t1.append(i)\n",
    "        elif i>n:\n",
    "            t2.append(i)\n",
    "        return t1 + [n] + t2"
   ],
   "metadata": {
    "collapsed": false,
    "pycharm": {
     "name": "#%%\n"
    }
   }
  },
  {
   "cell_type": "code",
   "execution_count": null,
   "outputs": [],
   "source": [
    "def Rate(origin, userInput) :\n",
    "    if not (isinstance(origin,str) and isinstance(userInput,str)):\n",
    "        print('The two parameters must be strings. ')\n",
    "        return\n",
    "    right = sum((1 for o,u in zip(origin,userInput) if o==u))\n",
    "    return round(right/len(origin),2)"
   ],
   "metadata": {
    "collapsed": false,
    "pycharm": {
     "name": "#%%\n"
    }
   }
  },
  {
   "cell_type": "code",
   "execution_count": null,
   "outputs": [],
   "source": [
    "from random import randint\n",
    "from math import sqrt\n",
    "\n",
    "def factoring(n) :\n",
    "    if not isinstance(n, int):\n",
    "        print('You must give me an integer')\n",
    "        return\n",
    "    result = []\n",
    "    for p in primes:\n",
    "        while n != 1:\n",
    "            if n % p ==0:\n",
    "                n=n/p\n",
    "                result. append(p)\n",
    "            else:\n",
    "                break\n",
    "        else:\n",
    "            result = '*'.join(map(str, result))\n",
    "            return result\n",
    "\n",
    "    if not result:\n",
    "        return n\n",
    "\n",
    "testData = [randint(10, 100000) for i in range(50)]\n",
    "maxData = max(testData)\n",
    "primes = [p for p in range(2, maxData) if 0 not in [p % d for d in range(2, int(sqrt(p)) + 1)]]\n",
    "\n",
    "for data in testData:\n",
    "    r = factoring(data)\n",
    "    print(data, '=', r)\n",
    "    print(data == eval(r))"
   ],
   "metadata": {
    "collapsed": false,
    "pycharm": {
     "name": "#%%\n"
    }
   }
  },
  {
   "cell_type": "code",
   "execution_count": null,
   "outputs": [],
   "source": [
    "from random import randint\n",
    "\n",
    "def guess(maxValue=100, maxTimes=5):\n",
    "    value"
   ],
   "metadata": {
    "collapsed": false,
    "pycharm": {
     "name": "#%%\n"
    }
   }
  }
 ],
 "metadata": {
  "kernelspec": {
   "display_name": "Python 3",
   "language": "python",
   "name": "python3"
  },
  "language_info": {
   "codemirror_mode": {
    "name": "ipython",
    "version": 2
   },
   "file_extension": ".py",
   "mimetype": "text/x-python",
   "name": "python",
   "nbconvert_exporter": "python",
   "pygments_lexer": "ipython2",
   "version": "2.7.6"
  }
 },
 "nbformat": 4,
 "nbformat_minor": 0
}