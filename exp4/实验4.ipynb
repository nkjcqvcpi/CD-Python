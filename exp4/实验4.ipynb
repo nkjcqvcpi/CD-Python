{
 "cells": [
  {
   "cell_type": "code",
   "execution_count": null,
   "metadata": {
    "collapsed": true
   },
   "outputs": [],
   "source": [
    "def crypt (source, key) :\n",
    "    from itertools import cycle\n",
    "    result = ''\n",
    "    temp = cycle(key)\n",
    "    for ch in source:\n",
    "        result = result + chr(ord(ch)^ord(next(temp)))\n",
    "    return result\n",
    "\n",
    "source = 'Shandong Institute of Business and Technology'\n",
    "key = 'Dong Fuguo'\n",
    "print('Before Encrypted: ' + source)\n",
    "encrypted = crypt(source,key)\n",
    "print('After Encrypted: ' + encrypted)\n",
    "decrypted = crypt(encrypted, key)\n",
    "print('After Decrypted: ' + decrypted)"
   ]
  },
  {
   "cell_type": "code",
   "execution_count": null,
   "outputs": [],
   "source": [
    "import codecs\n",
    "from random import choice, randint\n",
    "\n",
    "stringBase = '\\u7684\\u4e00\\u4e86\\u662f\\u6211\\u4eOd\\u572B\\u4eba'\n",
    "\n",
    "def getEmail():\n",
    "    suffix = ['.com','.org','.net','.cn']\n",
    "    characters = string.ascii_letters + string.digits + '_'\n",
    "    username = ''.join((choice(characters) for i in range(randint(6,12))))\n",
    "    domain = ''.join( (choice(characters) for i in range (randint(3,6))))\n",
    "    return username + '@' + domain + choice(suffix)\n",
    "\n",
    "def getTelNo() :\n",
    "    return ''.join((str(randint(0,9)) for 1 in range(11)))\n",
    "\n",
    "def getNameOrAddress(flag) :\n",
    "    if flag == 1:\n",
    "        rangestart, rangeend = 2, 5\n",
    "    elif flag == 0:\n",
    "        rangestart, rangeend = 10, 30\n",
    "    result = ''.join((choice(StringBase) for i in range(randint(rangestart, rangeend))))\n",
    "    return result\n",
    "\n",
    "def getSex():\n",
    "    return choice(('男', '女'))\n",
    "\n",
    "def getAge() :\n",
    "    return str(randint(18, 100))\n",
    "\n",
    "def main(filename):\n",
    "    with codecs.open(filename, 'w', 'utf-8') as fp:\n",
    "        fp.write('Name, Sex, Age, TelNO, Address, Email\\n')\n",
    "        for i in range(200) :\n",
    "            name = getNameOrAddress(1)\n",
    "            sex = getSex()\n",
    "            age = getAge()\n",
    "            tel = getTelNo()\n",
    "            address = getNameOrAddress(0)\n",
    "            email = getEmail()\n",
    "            line = ','.join([name, sex, age, tel, address, email]) +'\\n'\n",
    "            fp.write(line)\n",
    "\n",
    "def output(filename) :\n",
    "    with codecs.open(filename, 'r', 'utf-8') as fp:\n",
    "        for line in fp:\n",
    "            line =line.split(',')\n",
    "            for i in line:\n",
    "                print(i, end=',')\n",
    "            print()\n",
    "\n",
    "if __name__ == '__main__':\n",
    "    filename = 'information.txt'\n",
    "    main(filename)\n",
    "    output(filename)"
   ],
   "metadata": {
    "collapsed": false,
    "pycharm": {
     "name": "#%%\n"
    }
   }
  },
  {
   "cell_type": "code",
   "execution_count": null,
   "outputs": [],
   "source": [
    "import string\n",
    "\n",
    "def check(pwd) :\n",
    "    if not isinstance(pwd,str) or len(pwd)< 6:\n",
    "        return 'not suitable for password'\n",
    "    d = {1: 'weak', 2: 'below middle', 3: 'above middle', 4: 'strong'}\n",
    "    r = [False] * 4\n",
    "    for ch in pwd:\n",
    "        if not r[0] and ch in string.digits:\n",
    "            r[0]= True\n",
    "        elif not r[1] and ch in string.ascii_lowercase:\n",
    "            r[1]= True\n",
    "        elif not r[2] and ch in string.ascii_uppercase:\n",
    "            r[2]= True\n",
    "        elif not r[3] and ch in ',.!;?<> ':\n",
    "            r[3]= True\n",
    "    return d.get(r .count(True), 'error')\n",
    "\n",
    "print(check('a2Cd, '))"
   ],
   "metadata": {
    "collapsed": false,
    "pycharm": {
     "name": "#%%\n"
    }
   }
  },
  {
   "cell_type": "code",
   "execution_count": null,
   "outputs": [],
   "source": [
    "import re\n",
    "\n",
    "telNumber = '''Suppose my Phone No. is 0535-1234567,\n",
    "               yours is 010-12345678,\n",
    "               his is 025-87654321. '''\n",
    "pattern = re.compile(r'(\\d{3,4})-(\\d{7,8})')\n",
    "index = 0\n",
    "while True:\n",
    "    matchResult = pattern.search(telNumber, index)\n",
    "    if not matchResult:\n",
    "        break\n",
    "    print('-' * 30)\n",
    "    print('Success: ')\n",
    "    for i in range(3) :\n",
    "        print('searched content:', matchResult.group(i),\n",
    "              'Start from:', matchResult.start(i), 'End at:', matchResult .end(i),\n",
    "              'Its span is:', matchResult.span(i))\n",
    "    index = matchResult.end(2)"
   ],
   "metadata": {
    "collapsed": false,
    "pycharm": {
     "name": "#%%\n"
    }
   }
  },
  {
   "cell_type": "code",
   "execution_count": null,
   "outputs": [],
   "source": [
    "import os\n",
    "import re\n",
    "\n",
    "def detectIframe(fn) :\n",
    "    content = []\n",
    "    with open(fn, encoding='utf-8') as fp:\n",
    "        for line in fp:\n",
    "            content.append(line.strip())\n",
    "    content = ' '.join(content)\n",
    "    m = re.findall(r'<iframe\\s+srcm :?></iframe> ', content)\n",
    "    if m:\n",
    "        return {fn:m}\n",
    "    return False\n",
    "\n",
    "for fn in (f for f in os.listdir('.') if f.endswith((' .html',' .htm'))):\n",
    "    r = detectIframe(fn)\n",
    "    if not r:\n",
    "        continue\n",
    "    for k, v in r.items() :\n",
    "        print(k)\n",
    "        for vv in v:\n",
    "            print('\\t', vv)\n"
   ],
   "metadata": {
    "collapsed": false,
    "pycharm": {
     "name": "#%%\n"
    }
   }
  }
 ],
 "metadata": {
  "kernelspec": {
   "display_name": "Python 3",
   "language": "python",
   "name": "python3"
  },
  "language_info": {
   "codemirror_mode": {
    "name": "ipython",
    "version": 2
   },
   "file_extension": ".py",
   "mimetype": "text/x-python",
   "name": "python",
   "nbconvert_exporter": "python",
   "pygments_lexer": "ipython2",
   "version": "2.7.6"
  }
 },
 "nbformat": 4,
 "nbformat_minor": 0
}