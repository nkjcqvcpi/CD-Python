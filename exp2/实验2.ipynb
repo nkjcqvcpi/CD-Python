{
 "cells": [
  {
   "cell_type": "code",
   "execution_count": 2,
   "id": "e1d04d4a-33c7-4d94-9025-ba67d3826847",
   "metadata": {},
   "outputs": [
    {
     "name": "stdout",
     "output_type": "stream",
     "text": [
      "The count is :  0\n",
      "The count is :  1\n",
      "The count is :  2\n",
      "The count is :  3\n",
      "The count is :  4\n",
      "The count is :  5\n",
      "The count is :  6\n",
      "The count is :  7\n",
      "The count is :  8\n",
      "Good bye!\n"
     ]
    }
   ],
   "source": [
    "# -*- coding: utf-8 -*-\n",
    "\"\"\"\n",
    "Created on Wed Apr 12 14:00:07 2017\n",
    "@author: singing\n",
    "\"\"\"\n",
    "\n",
    "count = 0\n",
    "while count < 9 :\n",
    "    print('The count is : ', count)\n",
    "    count += 1\n",
    "print(\"Good bye!\")"
   ]
  },
  {
   "cell_type": "code",
   "execution_count": 3,
   "id": "960fa94b-a04a-490f-a23d-5bf33badbbea",
   "metadata": {},
   "outputs": [
    {
     "name": "stdout",
     "output_type": "stream",
     "text": [
      "undefine\n",
      "hello\n",
      "Helllo\n"
     ]
    }
   ],
   "source": [
    "num = 10\n",
    "if num <0 or num > 10:\n",
    "    print('Hello')\n",
    "else:\n",
    "    print('undefine')\n",
    "\n",
    "if 0 < num <= 10:\n",
    "    print('hello')\n",
    "else:\n",
    "    print('undefine')\n",
    "\n",
    "if 0 < num <=10:\n",
    "    print('Helllo')\n",
    "else:\n",
    "    print('undefine')"
   ]
  },
  {
   "cell_type": "code",
   "execution_count": 4,
   "id": "f65bbbde-6ca9-4e5e-a1a7-f49091262de3",
   "metadata": {},
   "outputs": [
    {
     "name": "stdout",
     "output_type": "stream",
     "text": [
      "0\n",
      "2\n",
      "4\n",
      "6\n",
      "8\n",
      "the end\n"
     ]
    }
   ],
   "source": [
    "num = 0\n",
    "while num<10:\n",
    "    if num % 2 == 0:\n",
    "        print(num)\n",
    "    num += 1\n",
    "print(\"the end\")"
   ]
  },
  {
   "cell_type": "code",
   "execution_count": 5,
   "id": "4a712b70-3334-419a-9868-b31b0637907d",
   "metadata": {},
   "outputs": [
    {
     "name": "stdout",
     "output_type": "stream",
     "text": [
      "5050\n"
     ]
    }
   ],
   "source": [
    "num = 1\n",
    "sum = 0\n",
    "while num <= 100:\n",
    "    sum += num\n",
    "    num +=1   \n",
    "print(sum)"
   ]
  },
  {
   "cell_type": "code",
   "execution_count": null,
   "id": "b706a31e-8b89-4246-b6cf-6d80cb16f102",
   "metadata": {},
   "outputs": [],
   "source": [
    "numbers = []\n",
    "while True :\n",
    "    x = input('请输入一个成绩:')\n",
    "try:\n",
    "    numbers.append(float(x))\n",
    "except :\n",
    "    print('不是合法成绩')\n",
    "while True:\n",
    "    flag =input('继续输入吗? (yes/no)').lower()\n",
    "    if flag not in ('yes', 'no'):\n",
    "        print('只能输入yes或no')\n",
    "    else:\n",
    "        break\n",
    "    if flag== 'no':\n",
    "        break\n",
    "print(sum(numbers)/len(numbers))"
   ]
  },
  {
   "cell_type": "code",
   "execution_count": null,
   "id": "c5035f1f-c0bb-47a1-9e83-1842605bdaf9",
   "metadata": {},
   "outputs": [],
   "source": [
    "import time\n",
    "date = time.localtime()\n",
    "year, month, day = date [:3]\n",
    "day_month = [31,28,31,30,31,30,31,31,30,31,30,31]\n",
    "it year%400==0 or (year%4==0 and year%100!=0):\n",
    "    day_month[1] = 29\n",
    "if month == 1:\n",
    "    print(day)\n",
    "else:\n",
    "    print(sum(day_month[:month-1])+day)"
   ]
  },
  {
   "cell_type": "code",
   "execution_count": null,
   "id": "81290be5-25d2-4369-ba72-49675304945e",
   "metadata": {},
   "outputs": [],
   "source": []
  }
 ],
 "metadata": {
  "kernelspec": {
   "display_name": "Python 3",
   "language": "python",
   "name": "python3"
  },
  "language_info": {
   "codemirror_mode": {
    "name": "ipython",
    "version": 3
   },
   "file_extension": ".py",
   "mimetype": "text/x-python",
   "name": "python",
   "nbconvert_exporter": "python",
   "pygments_lexer": "ipython3",
   "version": "3.8.8"
  }
 },
 "nbformat": 4,
 "nbformat_minor": 5
}