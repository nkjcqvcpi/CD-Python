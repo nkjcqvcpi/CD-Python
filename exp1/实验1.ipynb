{
 "cells": [
  {
   "cell_type": "code",
   "execution_count": 1,
   "id": "0062bd47-b8b6-4ce2-aaa0-8822d0fb1fcb",
   "metadata": {},
   "outputs": [
    {
     "name": "stdout",
     "output_type": "stream",
     "text": [
      "1 2 3\n"
     ]
    }
   ],
   "source": [
    "x = input('请输入一个三位自然数：')  # 输入x\n",
    "x = int(x)  # 将字符串格式转换成整型\n",
    "a = x // 100  # 取三位数的百位\n",
    "b = x // 10 % 10  # 取三位数的十位\n",
    "c = x % 10  # 取三位数的个位\n",
    "print(a, b, c)  # 输出"
   ]
  },
  {
   "cell_type": "code",
   "execution_count": 2,
   "id": "4635599e-5c20-47fa-946f-44baf34389be",
   "metadata": {},
   "outputs": [
    {
     "name": "stdout",
     "output_type": "stream",
     "text": [
      "1 2 3\n"
     ]
    }
   ],
   "source": [
    "x = input('请输入一个三位自然数：')  # 输入x\n",
    "x = int(x)  # 将字符串格式转换成整型\n",
    "a, b = divmod(x, 100)  # x整除100，取商和余数，分别是三位数的百位数字赋值给a和后两位数赋值给b\n",
    "b, c = divmod(b, 10)  # b整除10，取商和余数，分别是后两位数的十位数字赋值给吧，个位数赋值给c\n",
    "print(a, b, c)  # 输出"
   ]
  },
  {
   "cell_type": "code",
   "execution_count": 3,
   "id": "be5c38a0-63f5-435e-b37d-0774d8de9669",
   "metadata": {},
   "outputs": [
    {
     "name": "stdout",
     "output_type": "stream",
     "text": [
      "1 2 3\n"
     ]
    }
   ],
   "source": [
    "x = input('请输入一个三位自然数：')  # 输入x\n",
    "a, b, c = map(int, x)  # 将字符串中的每一个元素按整型映射，赋值给a,b,c\n",
    "print(a, b, c)  # 输出"
   ]
  },
  {
   "cell_type": "code",
   "execution_count": 4,
   "id": "aef9b5da-733a-493c-9fd9-35a4a10f2c12",
   "metadata": {},
   "outputs": [
    {
     "name": "stdout",
     "output_type": "stream",
     "text": [
      "c= 1.2393136749274758\n"
     ]
    }
   ],
   "source": [
    "import math  # 导入数学库\n",
    "\n",
    "x = input('输入两边长及夹角（度），使用空格分隔：')  # 输入两边长及夹角为字符串\n",
    "a, b, theta = map(float, x.split())  # 按空格分隔字符串生成列表，将列表中每个元素转换成浮点型\n",
    "c = math.sqrt(a ** 2 + b ** 2 - 2 * a * b * math.cos(theta * math.pi / 180))  # 求第三边长\n",
    "print('c=', c)  # 输出第三边长"
   ]
  },
  {
   "cell_type": "code",
   "execution_count": 7,
   "id": "da5fef5f-6ec9-4ba7-9df7-993f1738b00b",
   "metadata": {},
   "outputs": [
    {
     "name": "stdout",
     "output_type": "stream",
     "text": [
      "hello python world\n"
     ]
    }
   ],
   "source": [
    "s = input('x,y,z=')  # 输入逗号分隔的三个单词\n",
    "x, y, z = sorted(s.split(','))  # 按逗号分隔字符串储存到列表，对列表进行排序，将排序后的结果赋值到x,y,z\n",
    "print(x, y, z)  # 输出x,y,z"
   ]
  }
 ],
 "metadata": {
  "kernelspec": {
   "display_name": "Python 3",
   "language": "python",
   "name": "python3"
  },
  "language_info": {
   "codemirror_mode": {
    "name": "ipython",
    "version": 3
   },
   "file_extension": ".py",
   "mimetype": "text/x-python",
   "name": "python",
   "nbconvert_exporter": "python",
   "pygments_lexer": "ipython3",
   "version": "3.8.10"
  }
 },
 "nbformat": 4,
 "nbformat_minor": 5
}